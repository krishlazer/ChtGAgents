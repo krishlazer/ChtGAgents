{
 "cells": [
  {
   "metadata": {
    "ExecuteTime": {
     "end_time": "2024-05-11T04:51:13.253560Z",
     "start_time": "2024-05-11T04:51:13.231824Z"
    }
   },
   "cell_type": "code",
   "source": "import os",
   "id": "42a80e6b11e25ad3",
   "execution_count": 1,
   "outputs": []
  },
  {
   "cell_type": "code",
   "id": "initial_id",
   "metadata": {
    "collapsed": true,
    "ExecuteTime": {
     "end_time": "2024-05-11T04:52:13.006910Z",
     "start_time": "2024-05-11T04:52:00.872709Z"
    }
   },
   "source": [
    "from langchain_openai import OpenAI\n",
    "\n",
    "llm = OpenAI(\n",
    "    openai_api_key = os.getenv('OPENAI_API_KEY'),\n",
    "    temperature=0,\n",
    "    model='gpt-3.5-turbo-instruct'\n",
    ")"
   ],
   "execution_count": 2,
   "outputs": []
  },
  {
   "metadata": {
    "ExecuteTime": {
     "end_time": "2024-05-11T05:12:34.807102Z",
     "start_time": "2024-05-11T05:12:34.785340Z"
    }
   },
   "cell_type": "code",
   "source": [
    "from langchain.chains import LLMMathChain\n",
    "from langchain.agents import Tool\n",
    "\n",
    "llm_math = LLMMathChain.from_llm(llm)\n",
    "\n",
    "math_tool = Tool(\n",
    "    name='Calculator',\n",
    "    func=llm_math.run,\n",
    "    description=\"Useful when you need to answer questions about math.\"\n",
    ")\n",
    "\n",
    "tools = [math_tool]"
   ],
   "id": "e575e5081708ebce",
   "execution_count": 4,
   "outputs": []
  },
  {
   "metadata": {
    "ExecuteTime": {
     "end_time": "2024-05-11T05:13:25.384454Z",
     "start_time": "2024-05-11T05:13:25.323375Z"
    }
   },
   "cell_type": "code",
   "source": "tools[0].name, tools[0].description",
   "id": "14f4455c6b5e223c",
   "execution_count": 5,
   "outputs": []
  },
  {
   "metadata": {
    "ExecuteTime": {
     "end_time": "2024-05-11T05:20:11.174453Z",
     "start_time": "2024-05-11T05:20:08.966858Z"
    }
   },
   "cell_type": "code",
   "source": [
    "from langchain.agents import load_tools\n",
    "\n",
    "tools = load_tools(\n",
    "    ['llm-math'],\n",
    "    llm=llm\n",
    ")"
   ],
   "id": "96d58ba7889aaf77",
   "execution_count": 6,
   "outputs": []
  },
  {
   "metadata": {
    "ExecuteTime": {
     "end_time": "2024-05-11T05:52:12.110564Z",
     "start_time": "2024-05-11T05:52:11.995773Z"
    }
   },
   "cell_type": "code",
   "source": [
    "from langchain.agents import initialize_agent\n",
    "\n",
    "zero_shot_agent = initialize_agent(\n",
    "    agent=\"zero-shot-react-description\",\n",
    "    tools=tools,\n",
    "    llm=llm,\n",
    "    verbose=True,\n",
    "    max_iterations=3\n",
    ")"
   ],
   "id": "8083454c7966e36c",
   "execution_count": 16,
   "outputs": []
  },
  {
   "metadata": {
    "ExecuteTime": {
     "end_time": "2024-05-11T05:52:20.150654Z",
     "start_time": "2024-05-11T05:52:16.724266Z"
    }
   },
   "cell_type": "code",
   "source": "zero_shot_agent(\"What is (3.311 + 8.04)^ 2.4?\")",
   "id": "8e77b6bb9f2adcda",
   "execution_count": 17,
   "outputs": []
  },
  {
   "metadata": {
    "ExecuteTime": {
     "end_time": "2024-05-11T06:16:47.492843Z",
     "start_time": "2024-05-11T06:16:47.301516Z"
    }
   },
   "cell_type": "code",
   "source": [
    "# from langchain.prompts import PromptTemplate\n",
    "# from langchain.chains import LLMChain\n",
    "# \n",
    "# prompt = PromptTemplate(\n",
    "#     input_variables=[\"query\"],\n",
    "#     template=\"{query}\"\n",
    "# )\n",
    "# \n",
    "# llm_chain = LLMChain(llm=llm, prompt=prompt)\n",
    "# \n",
    "# llm_tool = Tool(\n",
    "#     name=\"Language Model\",\n",
    "#     func=llm_chain.run,\n",
    "#     description=\"Use this tool for general purpose queries and logic.\"\n",
    "# )"
   ],
   "id": "41b0cff5543dffcc",
   "execution_count": 18,
   "outputs": []
  },
  {
   "metadata": {
    "ExecuteTime": {
     "end_time": "2024-05-11T06:27:44.733862Z",
     "start_time": "2024-05-11T06:27:44.714722Z"
    }
   },
   "cell_type": "code",
   "source": [
    "from langchain.prompts import PromptTemplate\n",
    "from langchain_core.runnables.base import RunnableSequence\n",
    "from langchain.agents import Tool\n",
    "\n",
    "prompt = PromptTemplate(\n",
    "    input_variables=[\"query\"],\n",
    "    template=\"{query}\"\n",
    ")\n",
    "\n",
    "llm_sequence = prompt | llm\n",
    "\n",
    "llm_tool = Tool(\n",
    "    name=\"Language Model\",\n",
    "    func=llm_sequence.invoke,\n",
    "    description=\"Use this tool for general purpose queries and logic.\"\n",
    ")"
   ],
   "id": "c46b24395713a69d",
   "execution_count": 21,
   "outputs": []
  },
  {
   "metadata": {
    "ExecuteTime": {
     "end_time": "2024-05-11T06:30:12.520071Z",
     "start_time": "2024-05-11T06:30:12.503447Z"
    }
   },
   "cell_type": "code",
   "source": "tools.append(llm_tool)",
   "id": "97dd0e5f53d554b7",
   "execution_count": 22,
   "outputs": []
  },
  {
   "metadata": {
    "ExecuteTime": {
     "end_time": "2024-05-11T06:31:18.274855Z",
     "start_time": "2024-05-11T06:31:18.252684Z"
    }
   },
   "cell_type": "code",
   "source": [
    "zero_shot_agent = initialize_agent(\n",
    "    agent=\"zero-shot-react-description\",\n",
    "    tools=tools,\n",
    "    llm=llm,\n",
    "    verbose=True,\n",
    "    max_iterations=3    \n",
    ")"
   ],
   "id": "d6db5a5e01a98389",
   "execution_count": 23,
   "outputs": []
  },
  {
   "metadata": {
    "ExecuteTime": {
     "end_time": "2024-05-11T06:32:14.484986Z",
     "start_time": "2024-05-11T06:32:07.481514Z"
    }
   },
   "cell_type": "code",
   "source": "zero_shot_agent(\"Tell me about Gettysberg Speech.\")",
   "id": "2fc82d036c09057c",
   "execution_count": 24,
   "outputs": []
  },
  {
   "metadata": {
    "ExecuteTime": {
     "end_time": "2024-05-11T06:34:48.771130Z",
     "start_time": "2024-05-11T06:34:45.869040Z"
    }
   },
   "cell_type": "code",
   "source": "zero_shot_agent(\"What is (21 + 67)^2?\")",
   "id": "cbb66fdac62c7638",
   "execution_count": 25,
   "outputs": []
  },
  {
   "metadata": {
    "ExecuteTime": {
     "end_time": "2024-05-11T09:33:00.261330Z",
     "start_time": "2024-05-11T09:32:58.109569Z"
    }
   },
   "cell_type": "code",
   "source": [
    "openai_api_key = os.getenv('OPENAI_API_KEY')\n",
    "\n",
    "from langchain_openai import OpenAI\n",
    "\n",
    "llm = OpenAI(\n",
    "    openai_api_key = openai_api_key,\n",
    "    temperature=0,\n",
    ")"
   ],
   "id": "1e55b07e8e145be3",
   "execution_count": 26,
   "outputs": []
  },
  {
   "metadata": {
    "ExecuteTime": {
     "end_time": "2024-05-11T09:39:58.091251Z",
     "start_time": "2024-05-11T09:39:56.222095Z"
    }
   },
   "cell_type": "code",
   "source": [
    "from langchain.callbacks import get_openai_callback\n",
    "\n",
    "def count_tokens(agent, query):\n",
    "    with get_openai_callback() as cb:\n",
    "        result = agent(query)\n",
    "        print(f'Spent a total of {cb.total_tokens} tokens')\n",
    "        \n",
    "    return result"
   ],
   "id": "5402e8f5167be35f",
   "execution_count": 27,
   "outputs": []
  },
  {
   "metadata": {
    "ExecuteTime": {
     "end_time": "2024-05-11T09:47:57.939031Z",
     "start_time": "2024-05-11T09:47:53.324653Z"
    }
   },
   "cell_type": "code",
   "source": [
    "from sqlalchemy import MetaData\n",
    "\n",
    "metadata_obj = MetaData()"
   ],
   "id": "5054afb831076079",
   "execution_count": 28,
   "outputs": []
  },
  {
   "metadata": {
    "ExecuteTime": {
     "end_time": "2024-05-11T09:52:06.746663Z",
     "start_time": "2024-05-11T09:52:06.682394Z"
    }
   },
   "cell_type": "code",
   "source": [
    "from sqlalchemy import Column, Integer, String, Table, Date, Float\n",
    "\n",
    "stocks = Table(\n",
    "    \"stocks\",\n",
    "    metadata_obj,\n",
    "    Column(\"obs_id\", Integer, primary_key=True),\n",
    "    Column(\"stock_ticker\", String(4), nullable=False),\n",
    "    Column(\"price\", Float, nullable=False),\n",
    "    Column(\"date\", Date, nullable=False)\n",
    ")"
   ],
   "id": "e50cfefe2de328e2",
   "execution_count": 29,
   "outputs": []
  },
  {
   "metadata": {
    "ExecuteTime": {
     "end_time": "2024-05-11T09:53:43.421780Z",
     "start_time": "2024-05-11T09:53:38.777989Z"
    }
   },
   "cell_type": "code",
   "source": [
    "from sqlalchemy import create_engine\n",
    "\n",
    "engine = create_engine(\"sqlite:///:memory:\")\n",
    "metadata_obj.create_all(engine)"
   ],
   "id": "73e2d99589aa954d",
   "execution_count": 30,
   "outputs": []
  },
  {
   "metadata": {
    "ExecuteTime": {
     "end_time": "2024-05-11T09:59:21.962477Z",
     "start_time": "2024-05-11T09:59:21.925856Z"
    }
   },
   "cell_type": "code",
   "source": [
    "from datetime import datetime\n",
    "\n",
    "observations = [\n",
    "    [1, 'ABC', 200, datetime(2023, 1, 1)],\n",
    "    [2, 'ABC', 208, datetime(2023, 1, 2)],\n",
    "    [3, 'ABC', 232, datetime(2023, 1, 3)],\n",
    "    [4, 'ABC', 225, datetime(2023, 1, 4)],\n",
    "    [5, 'ABC', 226, datetime(2023, 1, 5)],\n",
    "    [6, 'XYZ', 810, datetime(2023, 1, 1)],\n",
    "    [7, 'XYZ', 803, datetime(2023, 1, 2)],\n",
    "    [8, 'XYZ', 798, datetime(2023, 1, 3)],\n",
    "    [9, 'XYZ', 795, datetime(2023, 1, 4)],\n",
    "    [10, 'XYZ', 791, datetime(2023, 1, 5)]\n",
    "]"
   ],
   "id": "e697b27c0ab61284",
   "execution_count": 31,
   "outputs": []
  },
  {
   "metadata": {
    "ExecuteTime": {
     "end_time": "2024-05-11T10:03:37.762084Z",
     "start_time": "2024-05-11T10:03:37.735802Z"
    }
   },
   "cell_type": "code",
   "source": [
    "from sqlalchemy import insert\n",
    "\n",
    "def insert_obs(obs):\n",
    "    stmt = insert(stocks).values(\n",
    "    obs_id=obs[0],\n",
    "    stock_ticker=obs[1],\n",
    "    price=obs[2],\n",
    "    date=obs[3]\n",
    "    )\n",
    "    \n",
    "    with engine.begin() as conn:\n",
    "        conn.execute(stmt)   "
   ],
   "id": "680cb30211ad9727",
   "execution_count": 32,
   "outputs": []
  },
  {
   "metadata": {
    "ExecuteTime": {
     "end_time": "2024-05-11T10:04:20.792280Z",
     "start_time": "2024-05-11T10:04:20.768544Z"
    }
   },
   "cell_type": "code",
   "source": [
    "for obs in observations:\n",
    "    insert_obs(obs)"
   ],
   "id": "9ac8788b4c89c5d1",
   "execution_count": 33,
   "outputs": []
  },
  {
   "metadata": {
    "ExecuteTime": {
     "end_time": "2024-05-11T10:09:51.053038Z",
     "start_time": "2024-05-11T10:09:51.031686Z"
    }
   },
   "cell_type": "code",
   "source": [
    "from langchain.utilities import SQLDatabase\n",
    "from langchain_experimental.sql import SQLDatabaseChain\n",
    "\n",
    "db = SQLDatabase(engine)\n",
    "sql_chain = SQLDatabaseChain.from_llm(llm=llm, db=db, verbose=True)"
   ],
   "id": "41c1af87278c4588",
   "execution_count": 39,
   "outputs": []
  },
  {
   "metadata": {
    "ExecuteTime": {
     "end_time": "2024-05-11T11:29:52.224801Z",
     "start_time": "2024-05-11T11:29:51.947603Z"
    }
   },
   "cell_type": "code",
   "source": [
    "from langchain.agents import create_sql_agent\n",
    "from langchain.agents.agent_toolkits import SQLDatabaseToolkit\n",
    "from langchain.agents.agent_types import AgentType\n",
    "\n",
    "agent_executor = create_sql_agent(\n",
    "    llm=llm,\n",
    "    toolkit=SQLDatabaseToolkit(db=db, llm=llm),\n",
    "    verbose=True,\n",
    "    agent_type=AgentType.ZERO_SHOT_REACT_DESCRIPTION,\n",
    "    max_iterations=3\n",
    ")"
   ],
   "id": "7deb2cafeeeb9d58",
   "execution_count": 40,
   "outputs": []
  },
  {
   "metadata": {
    "ExecuteTime": {
     "end_time": "2024-05-11T11:33:16.515759Z",
     "start_time": "2024-05-11T11:33:12.127760Z"
    }
   },
   "cell_type": "code",
   "source": [
    "result = count_tokens(\n",
    "    agent_executor,\n",
    "    \"What is the product of the ratio between stock \" +\n",
    "    \"prices for 'ABC' and 'XYZ' on January 3rd and the ratio \" +\n",
    "    \"between the same stock prices on January 4th?\"    \n",
    ")"
   ],
   "id": "2cbc49462a2647ad",
   "execution_count": 41,
   "outputs": []
  },
  {
   "metadata": {
    "ExecuteTime": {
     "end_time": "2024-05-11T11:48:53.021908Z",
     "start_time": "2024-05-11T11:48:53.004500Z"
    }
   },
   "cell_type": "code",
   "source": [
    "from langchain.agents import load_tools\n",
    "\n",
    "tools = load_tools(\n",
    "    [\"llm-math\"],\n",
    "    llm=llm\n",
    ")"
   ],
   "id": "d477603c623d0ad3",
   "execution_count": 47,
   "outputs": []
  },
  {
   "metadata": {
    "ExecuteTime": {
     "end_time": "2024-05-11T11:51:09.819790Z",
     "start_time": "2024-05-11T11:51:09.790912Z"
    }
   },
   "cell_type": "code",
   "source": [
    "from langchain.memory import ConversationBufferMemory\n",
    "\n",
    "memory = ConversationBufferMemory(memory_key=\"chat_history\")"
   ],
   "id": "c2c968a060c85e8d",
   "execution_count": 48,
   "outputs": []
  },
  {
   "metadata": {
    "ExecuteTime": {
     "end_time": "2024-05-11T11:57:03.499359Z",
     "start_time": "2024-05-11T11:57:03.477122Z"
    }
   },
   "cell_type": "code",
   "source": [
    "from langchain.agents import initialize_agent\n",
    "\n",
    "conversation_agent = initialize_agent(\n",
    "    agent = AgentType.ZERO_SHOT_REACT_DESCRIPTION,\n",
    "    tools=tools,\n",
    "    llm=llm,\n",
    "    verbose=True,\n",
    "    max_iterations=3,\n",
    "    memory=memory\n",
    ")"
   ],
   "id": "6e46b30db254aa2d",
   "execution_count": 53,
   "outputs": []
  },
  {
   "metadata": {
    "ExecuteTime": {
     "end_time": "2024-05-11T11:57:08.601080Z",
     "start_time": "2024-05-11T11:57:06.012095Z"
    }
   },
   "cell_type": "code",
   "source": [
    "result = count_tokens(\n",
    "    conversation_agent,\n",
    "    \"What's the result of an investment of $10000 growing at 8% annually for 5 years with compound interest?\"\n",
    ")"
   ],
   "id": "6f7bbb3207988f2f",
   "execution_count": 54,
   "outputs": []
  },
  {
   "metadata": {
    "ExecuteTime": {
     "end_time": "2024-05-11T11:56:41.438148Z",
     "start_time": "2024-05-11T11:56:41.434620Z"
    }
   },
   "cell_type": "code",
   "source": [
    "math_tool = Tool(name='Calculator',func=llm_math.run, description='Useful when you need to answer questions about math.')\n",
    "tools = [math_tool]"
   ],
   "id": "e70b9a655af7ae8d",
   "execution_count": 52,
   "outputs": []
  },
  {
   "metadata": {
    "ExecuteTime": {
     "end_time": "2024-05-11T11:59:59.453303Z",
     "start_time": "2024-05-11T11:59:56.435508Z"
    }
   },
   "cell_type": "code",
   "source": [
    "result = count_tokens(\n",
    "    conversation_agent,\n",
    "    \"if we start with $15000 instead and follow the same 8% annual growth for 5 years with compound interest, how much more would we have compared tp the previous scenario?\"\n",
    ")"
   ],
   "id": "823102f1da970dc9",
   "execution_count": 55,
   "outputs": []
  },
  {
   "metadata": {
    "ExecuteTime": {
     "end_time": "2024-05-11T12:04:52.558908Z",
     "start_time": "2024-05-11T12:04:51.529568Z"
    }
   },
   "cell_type": "code",
   "source": [
    "from langchain import Wikipedia\n",
    "from langchain.agents.react.base import DocstoreExplorer, Tool\n",
    "\n",
    "docstore = DocstoreExplorer(Wikipedia())    \n",
    "tools = [\n",
    "    Tool(\n",
    "        name=\"Search\",\n",
    "        func=docstore.search,\n",
    "        description=\"search wikipedia\"\n",
    "    ),\n",
    "    Tool(\n",
    "        name=\"Lookup\",\n",
    "        func=docstore.lookup,\n",
    "        description='lookup a term in wikipedia'\n",
    "    )\n",
    "]"
   ],
   "id": "f5f9790792c6454b",
   "execution_count": 56,
   "outputs": []
  },
  {
   "metadata": {
    "ExecuteTime": {
     "end_time": "2024-05-11T12:06:05.858421Z",
     "start_time": "2024-05-11T12:06:05.834410Z"
    }
   },
   "cell_type": "code",
   "source": [
    "docstore_agent = initialize_agent(\n",
    "    tools,\n",
    "    llm,\n",
    "    agent=\"react-docstore\",\n",
    "    verbose=True,\n",
    "    max_iterations=3\n",
    ")"
   ],
   "id": "39f7b4859cb3cee2",
   "execution_count": 57,
   "outputs": []
  },
  {
   "metadata": {
    "ExecuteTime": {
     "end_time": "2024-05-11T12:08:02.816971Z",
     "start_time": "2024-05-11T12:07:54.462349Z"
    }
   },
   "cell_type": "code",
   "source": "count_tokens(docstore_agent, \"What is the significance of Olympic games?\")",
   "id": "a90bcee594d6714f",
   "execution_count": 59,
   "outputs": []
  },
  {
   "metadata": {
    "ExecuteTime": {
     "end_time": "2024-05-11T12:13:25.156080Z",
     "start_time": "2024-05-11T12:13:24.648166Z"
    }
   },
   "cell_type": "code",
   "source": [
    "from langchain_openai import OpenAI\n",
    "from langchain import SerpAPIWrapper\n",
    "from langchain.agents import initialize_agent, Tool\n",
    "\n",
    "search = SerpAPIWrapper(serpapi_api_key=os.getenv(\"SERP_API_KEY\"))\n",
    "tools = [\n",
    "    Tool(\n",
    "        name=\"Intermediate Answer\",\n",
    "        func=search.run,\n",
    "        description=\"Google search\"\n",
    "    )\n",
    "]\n",
    "\n",
    "self_ask_with_search = initialize_agent(tools, llm, agent=\"self-ask-with-search\", verbose=True)"
   ],
   "id": "aca1180065a23c57",
   "execution_count": 61,
   "outputs": []
  },
  {
   "metadata": {
    "ExecuteTime": {
     "end_time": "2024-05-11T12:13:35.004637Z",
     "start_time": "2024-05-11T12:13:34.993468Z"
    }
   },
   "cell_type": "code",
   "source": "self_ask_with_search",
   "id": "3c03fa0c7a28ea0e",
   "execution_count": 62,
   "outputs": []
  },
  {
   "metadata": {},
   "cell_type": "code",
   "execution_count": null,
   "source": "",
   "id": "19e2b108cb50e5da",
   "outputs": []
  },
  {
   "metadata": {},
   "cell_type": "code",
   "execution_count": null,
   "source": "",
   "id": "80514c3af92c31b1",
   "outputs": []
  },
  {
   "metadata": {},
   "cell_type": "code",
   "execution_count": null,
   "source": "",
   "id": "47c349e12a4c98bf",
   "outputs": []
  },
  {
   "metadata": {},
   "cell_type": "code",
   "execution_count": null,
   "source": "",
   "id": "1f50eabaef2ad019",
   "outputs": []
  },
  {
   "metadata": {},
   "cell_type": "code",
   "execution_count": null,
   "source": "",
   "id": "8c12256612ddd86a",
   "outputs": []
  },
  {
   "metadata": {},
   "cell_type": "code",
   "execution_count": null,
   "source": "",
   "id": "1c2bce439b1ee9de",
   "outputs": []
  }
 ],
 "metadata": {
  "kernelspec": {
   "display_name": "Python 3",
   "language": "python",
   "name": "python3"
  },
  "language_info": {
   "codemirror_mode": {
    "name": "ipython",
    "version": 2
   },
   "file_extension": ".py",
   "mimetype": "text/x-python",
   "name": "python",
   "nbconvert_exporter": "python",
   "pygments_lexer": "ipython2",
   "version": "2.7.6"
  }
 },
 "nbformat": 4,
 "nbformat_minor": 5
}
