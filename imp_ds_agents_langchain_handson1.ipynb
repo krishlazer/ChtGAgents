{
 "cells": [
  {
   "cell_type": "code",
   "id": "initial_id",
   "metadata": {
    "collapsed": true,
    "ExecuteTime": {
     "end_time": "2024-05-10T08:13:04.438338Z",
     "start_time": "2024-05-10T08:13:03.450310Z"
    }
   },
   "source": [
    "import langchain\n",
    "import openai"
   ],
   "execution_count": 1,
   "outputs": []
  },
  {
   "metadata": {
    "ExecuteTime": {
     "end_time": "2024-05-10T08:13:05.144457Z",
     "start_time": "2024-05-10T08:13:04.438338Z"
    }
   },
   "cell_type": "code",
   "source": "from langchain_openai import OpenAI",
   "id": "621d6aec08d5e4db",
   "execution_count": 2,
   "outputs": []
  },
  {
   "metadata": {
    "ExecuteTime": {
     "end_time": "2024-05-10T08:13:05.150046Z",
     "start_time": "2024-05-10T08:13:05.144457Z"
    }
   },
   "cell_type": "code",
   "source": "import os",
   "id": "ac245aed6bea87ea",
   "execution_count": 3,
   "outputs": []
  },
  {
   "metadata": {
    "ExecuteTime": {
     "end_time": "2024-05-10T08:13:05.972354Z",
     "start_time": "2024-05-10T08:13:05.150046Z"
    }
   },
   "cell_type": "code",
   "source": [
    "llm = OpenAI(\n",
    "    openai_api_key = os.getenv(\"OPENAI_API_KEY\"),\n",
    "    temperature = 0,\n",
    "    model_name = \"gpt-3.5-turbo-instruct\"\n",
    ")"
   ],
   "id": "5753aa461e6cda23",
   "execution_count": 4,
   "outputs": []
  },
  {
   "metadata": {
    "ExecuteTime": {
     "end_time": "2024-05-10T08:13:06.503776Z",
     "start_time": "2024-05-10T08:13:05.972354Z"
    }
   },
   "cell_type": "code",
   "source": [
    "from langchain.chains import LLMMathChain\n",
    "from langchain.agents import Tool"
   ],
   "id": "cd45bddecaeb9b6f",
   "execution_count": 5,
   "outputs": []
  },
  {
   "metadata": {
    "ExecuteTime": {
     "end_time": "2024-05-10T09:46:00.328771Z",
     "start_time": "2024-05-10T09:46:00.308207Z"
    }
   },
   "cell_type": "code",
   "source": "llm_math = LLMMathChain(llm=llm)",
   "id": "a457df506cdf275b",
   "execution_count": 62,
   "outputs": []
  },
  {
   "metadata": {
    "ExecuteTime": {
     "end_time": "2024-05-10T08:13:06.865822Z",
     "start_time": "2024-05-10T08:13:06.858474Z"
    }
   },
   "cell_type": "code",
   "source": [
    "math_tool = Tool(name='Calculator',func=llm_math.run, description='Useful when you need to answer questions about math.')\n",
    "tools = [math_tool]"
   ],
   "id": "dda96fbc42bf389a",
   "execution_count": 7,
   "outputs": []
  },
  {
   "metadata": {
    "ExecuteTime": {
     "end_time": "2024-05-10T08:13:06.903347Z",
     "start_time": "2024-05-10T08:13:06.865822Z"
    }
   },
   "cell_type": "code",
   "source": [
    "from langchain.agents import initialize_agent\n",
    "\n",
    "zero_shot_agent = initialize_agent(\n",
    "    agent = \"zero-shot-react-description\",\n",
    "    tools=tools,\n",
    "    llm=llm,\n",
    "    verbose=True,\n",
    "    max_iterations=3\n",
    ")"
   ],
   "id": "5d3697dd147c170a",
   "execution_count": 8,
   "outputs": []
  },
  {
   "metadata": {
    "ExecuteTime": {
     "end_time": "2024-05-10T08:13:09.384497Z",
     "start_time": "2024-05-10T08:13:06.903347Z"
    }
   },
   "cell_type": "code",
   "source": "zero_shot_agent.invoke(\"What is 10^(-1)\")",
   "id": "8bcf400a45eb76da",
   "execution_count": 9,
   "outputs": []
  },
  {
   "metadata": {
    "ExecuteTime": {
     "end_time": "2024-05-10T08:13:12.268642Z",
     "start_time": "2024-05-10T08:13:09.384497Z"
    }
   },
   "cell_type": "code",
   "source": [
    "zero_shot_agent(\"\"\"If Trenton has 7 candies and Georgio brings two and a half\n",
    "candy boxes(each box contains 10 candies), how many candies do we have?\"\"\")"
   ],
   "id": "f7e8b89e256f8d77",
   "execution_count": 10,
   "outputs": []
  },
  {
   "metadata": {
    "ExecuteTime": {
     "end_time": "2024-05-10T08:13:12.301783Z",
     "start_time": "2024-05-10T08:13:12.268642Z"
    }
   },
   "cell_type": "code",
   "source": [
    "from langchain.prompts import PromptTemplate\n",
    "from langchain.chains import LLMChain\n",
    "\n",
    "prompt = PromptTemplate(\n",
    "    input_variables = [\"query\"],\n",
    "    template = \"{query}\"\n",
    ")\n",
    "llm_chain = LLMChain(llm=llm, prompt=prompt)"
   ],
   "id": "ae1425a4c3584c2e",
   "execution_count": 11,
   "outputs": []
  },
  {
   "metadata": {
    "ExecuteTime": {
     "end_time": "2024-05-10T10:01:10.369638Z",
     "start_time": "2024-05-10T10:01:10.348381Z"
    }
   },
   "cell_type": "code",
   "source": [
    "from langchain.prompts import PromptTemplate\n",
    "from langchain_core.runnables.base import RunnableSequence\n",
    "\n",
    "prompt = PromptTemplate(\n",
    "    input_variables=[\"query\"],\n",
    "    template=\"{query}\"\n",
    ")\n",
    "\n",
    "# Assuming `llm` is your language model instance already created or imported\n",
    "chain = prompt | llm\n"
   ],
   "id": "2e2146a37f8b5ce5",
   "execution_count": 64,
   "outputs": []
  },
  {
   "metadata": {
    "ExecuteTime": {
     "end_time": "2024-05-10T08:13:12.334597Z",
     "start_time": "2024-05-10T08:13:12.301783Z"
    }
   },
   "cell_type": "code",
   "source": "# add another tool to agent's tool box",
   "id": "77c59871729f8c46",
   "execution_count": 12,
   "outputs": []
  },
  {
   "metadata": {
    "ExecuteTime": {
     "end_time": "2024-05-10T08:13:12.370305Z",
     "start_time": "2024-05-10T08:13:12.334597Z"
    }
   },
   "cell_type": "code",
   "source": [
    "llm_tool = Tool(\n",
    "    name = \"Language Model\",\n",
    "    func = llm_chain.run,\n",
    "    description=\"use this tool for general purpose queries and logic\"\n",
    ")"
   ],
   "id": "848e6c87441b9005",
   "execution_count": 13,
   "outputs": []
  },
  {
   "metadata": {
    "ExecuteTime": {
     "end_time": "2024-05-10T08:13:12.416538Z",
     "start_time": "2024-05-10T08:13:12.385946Z"
    }
   },
   "cell_type": "code",
   "source": "tools.append(llm_tool)",
   "id": "e52c250d992eb6b9",
   "execution_count": 14,
   "outputs": []
  },
  {
   "metadata": {
    "ExecuteTime": {
     "end_time": "2024-05-10T08:13:12.466203Z",
     "start_time": "2024-05-10T08:13:12.416538Z"
    }
   },
   "cell_type": "code",
   "source": [
    "zero_shot_agent = initialize_agent(\n",
    "    agent=\"zero-shot-react-description\",\n",
    "    tools=tools,\n",
    "    llm=llm,\n",
    "    verbose=True,\n",
    "    max_iterations=3\n",
    ")"
   ],
   "id": "add44c008e5363d",
   "execution_count": 15,
   "outputs": []
  },
  {
   "metadata": {
    "ExecuteTime": {
     "end_time": "2024-05-10T08:13:15.738351Z",
     "start_time": "2024-05-10T08:13:12.466203Z"
    }
   },
   "cell_type": "code",
   "source": "zero_shot_agent(\"Where can we see the Eiffel tower?\")",
   "id": "a0b73145ab20ef50",
   "execution_count": 16,
   "outputs": []
  },
  {
   "metadata": {
    "ExecuteTime": {
     "end_time": "2024-05-10T08:13:21.648566Z",
     "start_time": "2024-05-10T08:13:15.738351Z"
    }
   },
   "cell_type": "code",
   "source": "zero_shot_agent(\"Renson has 3 books. He borrows 5 more books from the library. After a week he returns 2 books. How many books does he have now?\")",
   "id": "6628a0b5502381ce",
   "execution_count": 17,
   "outputs": []
  },
  {
   "metadata": {
    "ExecuteTime": {
     "end_time": "2024-05-10T08:13:22.074967Z",
     "start_time": "2024-05-10T08:13:21.648566Z"
    }
   },
   "cell_type": "code",
   "source": [
    "from langchain.agents import load_tools\n",
    "\n",
    "tools = load_tools(\n",
    "    ['llm-math'],\n",
    "    llm=llm,\n",
    ")"
   ],
   "id": "cf2ffd17db199de5",
   "execution_count": 18,
   "outputs": []
  },
  {
   "metadata": {
    "ExecuteTime": {
     "end_time": "2024-05-10T08:13:22.083065Z",
     "start_time": "2024-05-10T08:13:22.074967Z"
    }
   },
   "cell_type": "code",
   "source": "tools[0].name, tools[0].description",
   "id": "e7cb91d3b6d03bc7",
   "execution_count": 19,
   "outputs": []
  },
  {
   "metadata": {
    "ExecuteTime": {
     "end_time": "2024-05-10T08:13:22.129345Z",
     "start_time": "2024-05-10T08:13:22.083065Z"
    }
   },
   "cell_type": "code",
   "source": [
    "from langchain.callbacks import get_openai_callback\n",
    "\n",
    "def count_tokens(agent, query):\n",
    "    with get_openai_callback() as cb:\n",
    "        result = agent.invoke(prompt=query)\n",
    "    print(f'Spent a total of {cb.total_tokens} tokens')\n",
    "    \n",
    "    return result"
   ],
   "id": "cfe49ab9e883465b",
   "execution_count": 20,
   "outputs": []
  },
  {
   "metadata": {
    "ExecuteTime": {
     "end_time": "2024-05-10T08:13:22.368365Z",
     "start_time": "2024-05-10T08:13:22.129345Z"
    }
   },
   "cell_type": "code",
   "source": [
    "from sqlalchemy import MetaData\n",
    "\n",
    "metadata_obj = MetaData()"
   ],
   "id": "7bdeec0c6ff15450",
   "execution_count": 21,
   "outputs": []
  },
  {
   "metadata": {
    "ExecuteTime": {
     "end_time": "2024-05-10T08:13:22.377618Z",
     "start_time": "2024-05-10T08:13:22.368365Z"
    }
   },
   "cell_type": "code",
   "source": [
    "from sqlalchemy import Column, Integer, String, Table, Date, Float\n",
    "\n",
    "stocks = Table(\n",
    "    \"stocks\",\n",
    "    metadata_obj,\n",
    "    Column(\"obs_id\", Integer, primary_key=True),\n",
    "    Column(\"stock_ticker\", String(4), nullable=False),\n",
    "    Column(\"price\", Float, nullable=False),\n",
    "    Column(\"date\", Date, nullable=False)\n",
    ")"
   ],
   "id": "107a97fe6b43cc2c",
   "execution_count": 22,
   "outputs": []
  },
  {
   "metadata": {
    "ExecuteTime": {
     "end_time": "2024-05-10T08:13:22.437464Z",
     "start_time": "2024-05-10T08:13:22.377618Z"
    }
   },
   "cell_type": "code",
   "source": [
    "from sqlalchemy import create_engine, insert\n",
    "\n",
    "engine = create_engine(\"sqlite:///:memory:\")\n",
    "metadata_obj.create_all(engine)"
   ],
   "id": "a2ae95c6b5fe1676",
   "execution_count": 23,
   "outputs": []
  },
  {
   "metadata": {
    "ExecuteTime": {
     "end_time": "2024-05-10T08:13:22.454362Z",
     "start_time": "2024-05-10T08:13:22.437464Z"
    }
   },
   "cell_type": "code",
   "source": [
    "from datetime import datetime\n",
    "\n",
    "observations = [\n",
    "    [1, 'ABC', 200, datetime(2023, 1, 1)],\n",
    "    [2, 'ABC', 208, datetime(2023, 1, 2)],\n",
    "    [3, 'ABC', 232, datetime(2023, 1, 3)],\n",
    "    [4, 'ABC', 225, datetime(2023, 1, 4)],\n",
    "    [5, 'ABC', 226, datetime(2023, 1, 5)],\n",
    "    [6, 'XYZ', 810, datetime(2023, 1, 1)],\n",
    "    [7, 'XYZ', 803, datetime(2023, 1, 2)],\n",
    "    [8, 'XYZ', 798, datetime(2023, 1, 3)],\n",
    "    [9, 'XYZ', 795, datetime(2023, 1, 4)],\n",
    "    [10, 'XYZ', 791, datetime(2023, 1, 5)],\n",
    "]"
   ],
   "id": "6bb3aa2eddac8d53",
   "execution_count": 24,
   "outputs": []
  },
  {
   "metadata": {
    "ExecuteTime": {
     "end_time": "2024-05-10T08:13:22.489727Z",
     "start_time": "2024-05-10T08:13:22.454362Z"
    }
   },
   "cell_type": "code",
   "source": [
    "def insert_obs(obs):\n",
    "    stmt = insert(stocks).values(\n",
    "        obs_id=obs[0],\n",
    "        stock_ticker=obs[1],\n",
    "        price=obs[2],\n",
    "        date=obs[3]\n",
    "    )\n",
    "    with engine.begin() as conn:\n",
    "        conn.execute(stmt)"
   ],
   "id": "7790e00cbf02685c",
   "execution_count": 25,
   "outputs": []
  },
  {
   "metadata": {
    "ExecuteTime": {
     "end_time": "2024-05-10T08:13:22.574397Z",
     "start_time": "2024-05-10T08:13:22.489727Z"
    }
   },
   "cell_type": "code",
   "source": [
    "for obs in observations:\n",
    "    insert_obs(obs)"
   ],
   "id": "8af7491a5cc8b3f0",
   "execution_count": 26,
   "outputs": []
  },
  {
   "metadata": {
    "ExecuteTime": {
     "end_time": "2024-05-10T08:13:22.638007Z",
     "start_time": "2024-05-10T08:13:22.574397Z"
    }
   },
   "cell_type": "code",
   "source": [
    "from langchain.utilities import SQLDatabase\n",
    "from langchain_experimental.sql import SQLDatabaseChain\n",
    "\n",
    "db = SQLDatabase(engine)\n",
    "sql_chain = SQLDatabaseChain(llm=llm, database=db, verbose=True)"
   ],
   "id": "44b3983dcb8c22eb",
   "execution_count": 27,
   "outputs": []
  },
  {
   "metadata": {
    "ExecuteTime": {
     "end_time": "2024-05-10T08:13:22.651342Z",
     "start_time": "2024-05-10T08:13:22.638007Z"
    }
   },
   "cell_type": "code",
   "source": [
    "from langchain.sql_database import SQLDatabase\n",
    "from langchain_experimental.sql import SQLDatabaseChain\n",
    "\n",
    "db = SQLDatabase(engine)\n",
    "sql_chain = SQLDatabaseChain(llm=llm, database=db, verbose=True)"
   ],
   "id": "a6f9125fc6873719",
   "execution_count": 28,
   "outputs": []
  },
  {
   "metadata": {
    "ExecuteTime": {
     "end_time": "2024-05-10T08:13:22.683932Z",
     "start_time": "2024-05-10T08:13:22.651342Z"
    }
   },
   "cell_type": "code",
   "source": [
    "from langchain.agents import Tool\n",
    "\n",
    "sql_tool = Tool(\n",
    "    name = \"Stock DB\",\n",
    "    func = sql_chain.run,\n",
    "    description=\"Useful when you need to answer questions about stocks and their price.\"\n",
    ")"
   ],
   "id": "58f4bbbc5c66c3f5",
   "execution_count": 29,
   "outputs": []
  },
  {
   "metadata": {
    "ExecuteTime": {
     "end_time": "2024-05-10T08:13:22.740887Z",
     "start_time": "2024-05-10T08:13:22.683932Z"
    }
   },
   "cell_type": "code",
   "source": [
    "from langchain.agents import load_tools\n",
    "\n",
    "tools = load_tools(\n",
    "    [\"llm-math\"],\n",
    "    llm=llm\n",
    ")"
   ],
   "id": "ba057e45f14b8e06",
   "execution_count": 30,
   "outputs": []
  },
  {
   "metadata": {
    "ExecuteTime": {
     "end_time": "2024-05-10T08:13:22.774563Z",
     "start_time": "2024-05-10T08:13:22.740887Z"
    }
   },
   "cell_type": "code",
   "source": "tools.append(sql_tool)",
   "id": "89573f35070f2735",
   "execution_count": 31,
   "outputs": []
  },
  {
   "metadata": {
    "ExecuteTime": {
     "end_time": "2024-05-10T08:13:22.810198Z",
     "start_time": "2024-05-10T08:13:22.781374Z"
    }
   },
   "cell_type": "code",
   "source": [
    "from langchain.agents import initialize_agent\n",
    "\n",
    "zero_shot_agent = initialize_agent(\n",
    "    agent = \"zero-shot-react-description\",\n",
    "    tools=tools,\n",
    "    llm=llm,\n",
    "    verbose=True,\n",
    "    max_iterations=3\n",
    ")"
   ],
   "id": "c0d8fffec414fa5f",
   "execution_count": 32,
   "outputs": []
  },
  {
   "metadata": {
    "ExecuteTime": {
     "end_time": "2024-05-10T08:13:22.869578Z",
     "start_time": "2024-05-10T08:13:22.810198Z"
    }
   },
   "cell_type": "code",
   "source": [
    "from langchain.agents import create_sql_agent\n",
    "from langchain.agents.agent_toolkits import SQLDatabaseToolkit\n",
    "from langchain.agents.agent_types import AgentType\n",
    "\n",
    "agent_executor = create_sql_agent(\n",
    "    llm=llm,\n",
    "    toolkit=SQLDatabaseToolkit(db=db, llm=llm),\n",
    "    verbose=True,\n",
    "    agent_type=AgentType.ZERO_SHOT_REACT_DESCRIPTION,\n",
    "    max_iterations=3\n",
    ")"
   ],
   "id": "cfbce4651d5718b1",
   "execution_count": 33,
   "outputs": []
  },
  {
   "metadata": {
    "ExecuteTime": {
     "end_time": "2024-05-10T08:13:22.881020Z",
     "start_time": "2024-05-10T08:13:22.869578Z"
    }
   },
   "cell_type": "code",
   "source": [
    "def count_tokens(chain, query):\n",
    "    # Assuming 'chain' has a method 'invoke' that requires a parameter 'input'\n",
    "    result = chain.invoke(input=query)\n",
    "    # return len(result.split())  # Example of processing result\n",
    "    return len(result)"
   ],
   "id": "f3357cc2ae196448",
   "execution_count": 34,
   "outputs": []
  },
  {
   "metadata": {
    "ExecuteTime": {
     "end_time": "2024-05-10T08:13:30.379408Z",
     "start_time": "2024-05-10T08:13:22.881020Z"
    }
   },
   "cell_type": "code",
   "source": [
    "result = count_tokens(\n",
    "    zero_shot_agent,\n",
    "\"What is the multiplication of the ratio between stock prices for 'ABC' and 'XYZ' on January 3rd and the ratio between the same stock prices on January 4th?\"\n",
    ")"
   ],
   "id": "1c577e6250d0180b",
   "execution_count": 35,
   "outputs": []
  },
  {
   "metadata": {
    "ExecuteTime": {
     "end_time": "2024-05-10T08:17:13.918699Z",
     "start_time": "2024-05-10T08:17:13.901481Z"
    }
   },
   "cell_type": "code",
   "source": "print(zero_shot_agent.agent.llm_chain.prompt.template)",
   "id": "f6fbcb68ac314eba",
   "execution_count": 36,
   "outputs": []
  },
  {
   "metadata": {},
   "cell_type": "code",
   "execution_count": null,
   "source": "#conversational react",
   "id": "1d07166435a7d56e",
   "outputs": []
  },
  {
   "metadata": {
    "ExecuteTime": {
     "end_time": "2024-05-10T08:19:54.522996Z",
     "start_time": "2024-05-10T08:19:54.511015Z"
    }
   },
   "cell_type": "code",
   "source": [
    "tools = load_tools(\n",
    "    [\"llm-math\"],\n",
    "    llm=llm\n",
    ")"
   ],
   "id": "5eef9aea59d055f4",
   "execution_count": 37,
   "outputs": []
  },
  {
   "metadata": {
    "ExecuteTime": {
     "end_time": "2024-05-10T08:20:33.704462Z",
     "start_time": "2024-05-10T08:20:33.695295Z"
    }
   },
   "cell_type": "code",
   "source": "tools.append(sql_tool)",
   "id": "fc85e87c4c46600a",
   "execution_count": 38,
   "outputs": []
  },
  {
   "metadata": {
    "ExecuteTime": {
     "end_time": "2024-05-10T08:21:43.050741Z",
     "start_time": "2024-05-10T08:21:43.044816Z"
    }
   },
   "cell_type": "code",
   "source": [
    "from langchain.memory import ConversationBufferMemory\n",
    "memory = ConversationBufferMemory(memory_key=\"chat_history\")"
   ],
   "id": "80c01a630a8b8314",
   "execution_count": 39,
   "outputs": []
  },
  {
   "metadata": {
    "ExecuteTime": {
     "end_time": "2024-05-10T08:23:44.702938Z",
     "start_time": "2024-05-10T08:23:44.689287Z"
    }
   },
   "cell_type": "code",
   "source": [
    "conversational_agent = initialize_agent(\n",
    "    agent='conversational-react-description',\n",
    "    tools=tools,\n",
    "    llm=llm,\n",
    "    verbose=True,\n",
    "    max_iterations=3,\n",
    "    memory=memory\n",
    ")"
   ],
   "id": "ad45d1187c3aea49",
   "execution_count": 40,
   "outputs": []
  },
  {
   "metadata": {
    "ExecuteTime": {
     "end_time": "2024-05-10T08:25:58.752676Z",
     "start_time": "2024-05-10T08:25:55.571166Z"
    }
   },
   "cell_type": "code",
   "source": [
    "result = count_tokens(\n",
    "    conversational_agent,\n",
    "    \"Please provide me the stock prices for ABC and XYZ on January 1st\"\n",
    ")"
   ],
   "id": "ea802b7967d2f526",
   "execution_count": 42,
   "outputs": []
  },
  {
   "metadata": {
    "ExecuteTime": {
     "end_time": "2024-05-10T08:28:14.223915Z",
     "start_time": "2024-05-10T08:28:11.103196Z"
    }
   },
   "cell_type": "code",
   "source": [
    "result = count_tokens(\n",
    "    conversational_agent,\n",
    "    \"Please provide me the ratio of stock prices for ABC and XYZ on January 1st\"\n",
    ")"
   ],
   "id": "68dd669e173c19c6",
   "execution_count": 43,
   "outputs": []
  },
  {
   "metadata": {
    "ExecuteTime": {
     "end_time": "2024-05-10T08:29:13.054050Z",
     "start_time": "2024-05-10T08:29:13.044856Z"
    }
   },
   "cell_type": "code",
   "source": "print(conversational_agent.agent.llm_chain.prompt.template)",
   "id": "b2381f3ccf09981",
   "execution_count": 44,
   "outputs": []
  },
  {
   "metadata": {
    "ExecuteTime": {
     "end_time": "2024-05-10T08:32:38.464451Z",
     "start_time": "2024-05-10T08:32:35.546841Z"
    }
   },
   "cell_type": "code",
   "source": [
    "result = count_tokens(\n",
    "    conversational_agent,\n",
    "    \"What is the multiplication of the ratio between stock prices for 'ABC' and 'XYZ' on January 3rd and the ratio between the same stock prices on January 4th.\"\n",
    "    \n",
    ")"
   ],
   "id": "9d268eadba4c52b3",
   "execution_count": 45,
   "outputs": []
  },
  {
   "metadata": {},
   "cell_type": "code",
   "execution_count": null,
   "source": "#React docstore",
   "id": "760b8462f702dee6",
   "outputs": []
  },
  {
   "metadata": {
    "ExecuteTime": {
     "end_time": "2024-05-10T09:09:09.719835Z",
     "start_time": "2024-05-10T09:09:08.196800Z"
    }
   },
   "cell_type": "code",
   "source": [
    "from langchain import Wikipedia\n",
    "from langchain.agents.react.base import DocstoreExplorer\n",
    "\n",
    "docstore = DocstoreExplorer(Wikipedia())\n",
    "tools = [\n",
    "    Tool(\n",
    "        name=\"Search\",\n",
    "        func=docstore.search,\n",
    "        description='search wikipedia' \n",
    "    ),\n",
    "    Tool(\n",
    "        name=\"Lookup\",\n",
    "        func=docstore.lookup,\n",
    "        description='lookup a term in wikipedia' \n",
    "    )\n",
    "]"
   ],
   "id": "59d1b6f0918d4146",
   "execution_count": 47,
   "outputs": []
  },
  {
   "metadata": {
    "ExecuteTime": {
     "end_time": "2024-05-10T09:11:00.148598Z",
     "start_time": "2024-05-10T09:10:59.240884Z"
    }
   },
   "cell_type": "code",
   "source": [
    "llm = OpenAI(temperature=0)\n",
    "docstore_agent=initialize_agent(\n",
    "    tools,\n",
    "    llm,\n",
    "    agent=\"react-docstore\",\n",
    "    verbose=True,\n",
    "    max_iterations=3\n",
    ")"
   ],
   "id": "2122b18901e9b9a6",
   "execution_count": 48,
   "outputs": []
  },
  {
   "metadata": {
    "ExecuteTime": {
     "end_time": "2024-05-10T09:13:15.061928Z",
     "start_time": "2024-05-10T09:13:07.418149Z"
    }
   },
   "cell_type": "code",
   "source": "count_tokens(docstore_agent, \"Who was Duke of Marlborough?\")",
   "id": "fe05f6137e7157cc",
   "execution_count": 50,
   "outputs": []
  },
  {
   "metadata": {
    "ExecuteTime": {
     "end_time": "2024-05-10T09:34:34.937680Z",
     "start_time": "2024-05-10T09:34:34.918286Z"
    }
   },
   "cell_type": "code",
   "source": "import os",
   "id": "560424a2976a31f4",
   "execution_count": 55,
   "outputs": []
  },
  {
   "metadata": {
    "ExecuteTime": {
     "end_time": "2024-05-10T09:35:45.562361Z",
     "start_time": "2024-05-10T09:35:44.459004Z"
    }
   },
   "cell_type": "code",
   "source": [
    "from langchain_openai import OpenAI\n",
    "from langchain import SerpAPIWrapper\n",
    "from langchain.agents import initialize_agent, Tool\n",
    "\n",
    "llm = OpenAI(temperature=0)\n",
    "search = SerpAPIWrapper(serpapi_api_key = os.getenv(\"SERP_API_KEY\"))\n",
    "tools = [\n",
    "    Tool(\n",
    "        name=\"Intermediate Answer\",\n",
    "        func=search.run,\n",
    "        description='Google Search'\n",
    "    )\n",
    "]\n",
    "                        "
   ],
   "id": "13e2ee39d9471400",
   "execution_count": 58,
   "outputs": []
  },
  {
   "metadata": {
    "ExecuteTime": {
     "end_time": "2024-05-10T09:35:51.361308Z",
     "start_time": "2024-05-10T09:35:51.341791Z"
    }
   },
   "cell_type": "code",
   "source": "self_ask_with_search = initialize_agent(tools, llm, agent=\"self-ask-with-search\", verbose=True) ",
   "id": "8b9b60f0e987764",
   "execution_count": 59,
   "outputs": []
  },
  {
   "metadata": {
    "ExecuteTime": {
     "end_time": "2024-05-10T09:36:12.703159Z",
     "start_time": "2024-05-10T09:36:12.697685Z"
    }
   },
   "cell_type": "code",
   "source": "print(self_ask_with_search.agent.llm_chain.prompt.template)",
   "id": "516291ff152a3c35",
   "execution_count": 60,
   "outputs": []
  },
  {
   "metadata": {},
   "cell_type": "code",
   "execution_count": null,
   "source": "",
   "id": "b99c75d9b9ae40d2",
   "outputs": []
  },
  {
   "metadata": {},
   "cell_type": "code",
   "execution_count": null,
   "source": "",
   "id": "85445cb3f5031c",
   "outputs": []
  },
  {
   "metadata": {},
   "cell_type": "code",
   "execution_count": null,
   "source": "",
   "id": "28aa0203cc7bcd14",
   "outputs": []
  },
  {
   "metadata": {},
   "cell_type": "code",
   "execution_count": null,
   "source": "",
   "id": "ad012a64386396bc",
   "outputs": []
  }
 ],
 "metadata": {
  "kernelspec": {
   "display_name": "Python 3",
   "language": "python",
   "name": "python3"
  },
  "language_info": {
   "codemirror_mode": {
    "name": "ipython",
    "version": 2
   },
   "file_extension": ".py",
   "mimetype": "text/x-python",
   "name": "python",
   "nbconvert_exporter": "python",
   "pygments_lexer": "ipython2",
   "version": "2.7.6"
  }
 },
 "nbformat": 4,
 "nbformat_minor": 5
}
